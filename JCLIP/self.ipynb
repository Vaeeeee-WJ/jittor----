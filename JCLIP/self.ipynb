{
 "cells": [
  {
   "cell_type": "markdown",
   "metadata": {},
   "source": [
    "# TestSetZ验证集生成"
   ]
  },
  {
   "cell_type": "code",
   "execution_count": 10,
   "metadata": {},
   "outputs": [],
   "source": [
    "import os\n",
    "import random\n",
    "import shutil\n",
    "import pandas as pd\n",
    "random.seed(10)\n",
    "\n",
    "def generate_TestSetZ(root, train_path,lengths= 3000):\n",
    "\n",
    "    '''\n",
    "    root         : TrainSet数据集的根目录\n",
    "    train_path   : train.txt文件的路径\n",
    "    lengths      : 挑选的图片数量,默认为3000张，与TestSetA数据集数量相当\n",
    "    '''\n",
    "    df = pd.read_csv(train_path,delimiter= ' ',encoding='utf-8',header=None)\n",
    "    image_path  = list(df[0])\n",
    "    image_label = list(df[1])\n",
    "\n",
    "    index     = random.sample(range(0, len(image_path)), lengths)      # 随机选取3000张图片\n",
    "    img_path  = list(map(lambda x: image_path[x],index))\n",
    "    img_label = list(map(lambda x: image_label[x],index))\n",
    "\n",
    "    img_folder = root + '/TestSetZ'\n",
    "    label_txt  = root + '/TestSetZ-label.txt'\n",
    "    if not os.path.exists(img_folder):\n",
    "        os.makedirs(img_folder)\n",
    "\n",
    "    i = 0\n",
    "    with open(label_txt,'w') as f:\n",
    "        for x,label in zip(img_path,img_label):\n",
    "            target_path = img_folder + '/' + str(i) + '.' + x.split('.')[-1]\n",
    "            shutil.copyfile(root+'/'+x, target_path)\n",
    "            f.write(target_path.split('/')[-1]+'\\t'+str(label)+'\\n')\n",
    "            i += 1\n"
   ]
  }
 ],
 "metadata": {
  "kernelspec": {
   "display_name": "jittor_gpu2",
   "language": "python",
   "name": "python3"
  },
  "language_info": {
   "codemirror_mode": {
    "name": "ipython",
    "version": 3
   },
   "file_extension": ".py",
   "mimetype": "text/x-python",
   "name": "python",
   "nbconvert_exporter": "python",
   "pygments_lexer": "ipython3",
   "version": "3.9.16"
  }
 },
 "nbformat": 4,
 "nbformat_minor": 2
}
